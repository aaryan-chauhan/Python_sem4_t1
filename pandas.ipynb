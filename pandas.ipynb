{
 "cells": [
  {
   "cell_type": "code",
   "execution_count": 31,
   "metadata": {},
   "outputs": [
    {
     "name": "stdout",
     "output_type": "stream",
     "text": [
      "a    10\n",
      "b    20\n",
      "c    30\n",
      "dtype: int32\n",
      "1   NaN\n",
      "2   NaN\n",
      "dtype: float64\n"
     ]
    }
   ],
   "source": [
    "#set and multi dimensional dictionary ka nhi banta\n",
    "\n",
    "import pandas as pd\n",
    "import numpy as np\n",
    "data=np.array([10,20,30,40,50])\n",
    "\n",
    "ser=pd.Series(data,index=[\"a\",\"b\",\"c\",\"d\",\"e\"])\n",
    "print(ser[\"a\":\"c\"])\n",
    "data1={\"a\":10,\"b\":20,\"c\":30}\n",
    "ser1=pd.Series(data1,index=[1,2])#datatype yaad rakhna\n",
    "print(ser1)"
   ]
  },
  {
   "cell_type": "code",
   "execution_count": 14,
   "metadata": {},
   "outputs": [
    {
     "name": "stdout",
     "output_type": "stream",
     "text": [
      "    0\n",
      "0  70\n",
      "1  40\n",
      "2  10\n",
      "3  80\n",
      "4  50\n",
      "5  20\n",
      "6  90\n",
      "7  60\n",
      "8  30\n",
      "   day1  day2  day3\n",
      "0    10    20    30\n",
      "1    40    50    60\n"
     ]
    }
   ],
   "source": [
    "import pandas as pd\n",
    "import numpy as np\n",
    "data={10,20,30,40,50,60,70,80,90,10}\n",
    "df=pd.DataFrame(data)\n",
    "print(df)\n",
    "data1=np.array([[10,20,30],[40,50,60]])\n",
    "df1=pd.DataFrame(data1,columns=[\"day1\",\"day2\",\"day3\"])\n",
    "print(df1)"
   ]
  },
  {
   "cell_type": "code",
   "execution_count": 25,
   "metadata": {},
   "outputs": [
    {
     "name": "stdout",
     "output_type": "stream",
     "text": [
      "      c_in  w_hr\n",
      "d1  1200.0   2.0\n",
      "d2  1800.0   NaN\n",
      "d3     NaN   2.0\n",
      "d4  1500.0   1.0\n",
      "d5  1600.0   1.0\n",
      "      c_in    a  w_hr\n",
      "d1  1200.0  NaN   2.0\n",
      "d2  1800.0  NaN   NaN\n",
      "d3     NaN  NaN   2.0\n",
      "d4  1500.0  NaN   1.0\n",
      "d5  1600.0  NaN   1.0\n"
     ]
    }
   ],
   "source": [
    "import pandas as pd\n",
    "import numpy as np\n",
    "data={\"c_in\":[1200,1800,None,1500,1600],\"c_out\":[1000,800,1200,400,250],\"w_hr\":[2,None,2,1,1]}\n",
    "df=pd.DataFrame(data,index=[\"d1\",\"d2\",\"d3\",\"d4\",\"d5\"],columns=[\"c_in\",\"w_hr\"])\n",
    "print(df)\n",
    "df1=pd.DataFrame(data,index=[\"d1\",\"d2\",\"d3\",\"d4\",\"d5\"],columns=[\"c_in\",\"a\",\"w_hr\"])\n",
    "print(df1)"
   ]
  },
  {
   "cell_type": "code",
   "execution_count": 27,
   "metadata": {},
   "outputs": [
    {
     "name": "stdout",
     "output_type": "stream",
     "text": [
      "    a   b  bc  db\n",
      "0  10  20  20  20\n"
     ]
    }
   ],
   "source": [
    "import pandas as pd\n",
    "import numpy as np\n",
    "data={\"a\":[10],\"b\":[20],\"bc\":[20],\"db\":[20]}#single value will give error always take list even if u have single value\n",
    "df=pd.DataFrame(data)\n",
    "print(df)"
   ]
  },
  {
   "cell_type": "code",
   "execution_count": null,
   "metadata": {},
   "outputs": [],
   "source": []
  }
 ],
 "metadata": {
  "kernelspec": {
   "display_name": "Python 3",
   "language": "python",
   "name": "python3"
  },
  "language_info": {
   "codemirror_mode": {
    "name": "ipython",
    "version": 3
   },
   "file_extension": ".py",
   "mimetype": "text/x-python",
   "name": "python",
   "nbconvert_exporter": "python",
   "pygments_lexer": "ipython3",
   "version": "3.8.5"
  }
 },
 "nbformat": 4,
 "nbformat_minor": 4
}
